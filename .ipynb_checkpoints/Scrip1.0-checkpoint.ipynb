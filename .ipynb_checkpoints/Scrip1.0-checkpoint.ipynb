{
 "cells": [
  {
   "cell_type": "markdown",
   "metadata": {
    "colab_type": "text",
    "id": "view-in-github"
   },
   "source": [
    "<a href=\"https://colab.research.google.com/github/arnaldoviera/TrabajoFinalUCES/blob/main/Scrip1.ipynb\" target=\"_parent\"><img src=\"https://colab.research.google.com/assets/colab-badge.svg\" alt=\"Open In Colab\"/></a>"
   ]
  },
  {
   "cell_type": "code",
   "execution_count": 1,
   "metadata": {
    "id": "Mj14jmkx26Hd"
   },
   "outputs": [
    {
     "name": "stdout",
     "output_type": "stream",
     "text": [
      "Error: No se encontró el archivo 'tablabase_plana3.csv'.\n",
      "Por favor, asegúrate de que el notebook y el archivo CSV estén en la misma carpeta.\n"
     ]
    }
   ],
   "source": [
    "import pandas as pd\n",
    "import numpy as np\n",
    "\n",
    "# --- Cargar el archivo de datos ---\n",
    "# El script asume que \"tablabase_plana3.csv\" está en la misma carpeta que este notebook.\n",
    "file_name = 'tablabase_plana3.csv'\n",
    "\n",
    "try:\n",
    "    # Leemos el archivo CSV y lo cargamos en un DataFrame de pandas\n",
    "    df = pd.read_csv(file_name)\n",
    "    print(f\"Archivo '{file_name}' cargado exitosamente.\\n\")\n",
    "except FileNotFoundError:\n",
    "    print(f\"Error: No se encontró el archivo '{file_name}'.\")\n",
    "    print(\"Por favor, asegúrate de que el notebook y el archivo CSV estén en la misma carpeta.\")\n",
    "    df = None\n",
    "\n",
    "# Solo continuamos si el DataFrame se cargó correctamente\n",
    "if df is not None:\n",
    "    # --- Definición de las categorías y columnas a analizar ---\n",
    "    \n",
    "    # Lista con los nombres exactos de todas las categorías\n",
    "    lista_categorias = [\n",
    "        \"Bloque 1: Incertidumbres críticas sobre la Agroindustria Alimentaria Argentina, en el contexto mundial (1 a 12) \",\n",
    "        \"Bloque 2: tecnologías críticas de procesamiento de alimentos (enunciados 13 a 43)\",\n",
    "        \"Cadena maíz; (enunciados 44 a 61)\",\n",
    "        \"Cadena porcina; (enunciados 62 a 82) \",\n",
    "        \"Cadena olivo;  (enunciados 83 a 100)\",\n",
    "        \"Cadena frutas finas; (enunciados 101 a 118)\",\n",
    "        \"Cadena láctea (enunciados 119 a 140)\"\n",
    "    ]\n",
    "    \n",
    "    # Columnas numéricas para el análisis descriptivo\n",
    "    columnas_numericas = ['int_ans1', 'int_ans2', 'int_ans3', 'int_ans5', 'years exper']\n",
    "\n",
    "    # --- Bucle para generar y mostrar cada tabla ---\n",
    "    \n",
    "    # Iteramos a través de cada nombre de categoría en la lista\n",
    "    for categoria in lista_categorias:\n",
    "        print(\"\\n\" + \"=\"*80)\n",
    "        print(f\"### ANÁLISIS PARA: {categoria.strip()} ###\")\n",
    "        print(\"=\"*80)\n",
    "        \n",
    "        # Filtramos el DataFrame para obtener solo las filas de la categoría actual\n",
    "        df_categoria = df[df['Bloque temático'] == categoria].copy()\n",
    "        \n",
    "        # Si no hay datos para una categoría, lo indicamos y continuamos\n",
    "        if df_categoria.empty:\n",
    "            print(\"No se encontraron datos para esta categoría.\")\n",
    "            continue\n",
    "            \n",
    "        # Limpiamos la columna 'years exper' convirtiéndola a numérico\n",
    "        # Los valores que no sean números se convertirán en NaN (Not a Number)\n",
    "        df_categoria['years exper'] = pd.to_numeric(df_categoria['years exper'], errors='coerce')\n",
    "        \n",
    "        # Calculamos los estadísticos descriptivos (count, mean, std, etc.) para las columnas seleccionadas\n",
    "        tabla_descriptiva = df_categoria[columnas_numericas].describe().round(2)\n",
    "        \n",
    "        # Imprimimos la tabla resultante en un formato de texto limpio\n",
    "        print(tabla_descriptiva.to_string())\n",
    "        print(\"\\n\")"
   ]
  },
  {
   "cell_type": "code",
   "execution_count": 2,
   "metadata": {},
   "outputs": [
    {
     "name": "stdout",
     "output_type": "stream",
     "text": [
      "El directorio de trabajo actual es:\n",
      "C:\\Users\\arnal\\OneDrive\\Documents\\GitHub\\TrabajoFinalUCES\n"
     ]
    }
   ],
   "source": [
    "import os\n",
    "print(\"El directorio de trabajo actual es:\")\n",
    "print(os.getcwd())"
   ]
  },
  {
   "cell_type": "code",
   "execution_count": 3,
   "metadata": {},
   "outputs": [
    {
     "name": "stdout",
     "output_type": "stream",
     "text": [
      "\n",
      "Archivos en el directorio actual:\n",
      "['.git', '.ipynb_checkpoints', 'README.md', 'Scrip1.0.ipynb', 'tablabase_plana3.xlsx', 'Untitled.ipynb']\n"
     ]
    }
   ],
   "source": [
    "import os\n",
    "print(\"\\nArchivos en el directorio actual:\")\n",
    "print(os.listdir())"
   ]
  },
  {
   "cell_type": "code",
   "execution_count": 5,
   "metadata": {},
   "outputs": [
    {
     "name": "stdout",
     "output_type": "stream",
     "text": [
      "Collecting openpyxl\n",
      "  Downloading openpyxl-3.1.5-py2.py3-none-any.whl.metadata (2.5 kB)\n",
      "Collecting et-xmlfile (from openpyxl)\n",
      "  Downloading et_xmlfile-2.0.0-py3-none-any.whl.metadata (2.7 kB)\n",
      "Downloading openpyxl-3.1.5-py2.py3-none-any.whl (250 kB)\n",
      "Downloading et_xmlfile-2.0.0-py3-none-any.whl (18 kB)\n",
      "Installing collected packages: et-xmlfile, openpyxl\n",
      "\n",
      "   -------------------- ------------------- 1/2 [openpyxl]\n",
      "   -------------------- ------------------- 1/2 [openpyxl]\n",
      "   -------------------- ------------------- 1/2 [openpyxl]\n",
      "   -------------------- ------------------- 1/2 [openpyxl]\n",
      "   -------------------- ------------------- 1/2 [openpyxl]\n",
      "   -------------------- ------------------- 1/2 [openpyxl]\n",
      "   ---------------------------------------- 2/2 [openpyxl]\n",
      "\n",
      "Successfully installed et-xmlfile-2.0.0 openpyxl-3.1.5\n"
     ]
    }
   ],
   "source": [
    "!pip install openpyxl\n"
   ]
  },
  {
   "cell_type": "code",
   "execution_count": 8,
   "metadata": {},
   "outputs": [
    {
     "name": "stdout",
     "output_type": "stream",
     "text": [
      "Mostrando las primeras 10 filas del archivo Excel tal como las ve pandas:\n",
      "Por favor, identifica en qué número de fila (la columna de la izquierda) están los títulos correctos (pk_id, email, etc.)\n",
      "                                                   0\n",
      "0                                                NaN\n",
      "1                                                NaN\n",
      "2                                  Etiquetas de fila\n",
      "3  Bloque 1: Incertidumbres críticas sobre la Agr...\n",
      "4  Bloque 2: tecnologías críticas de procesamient...\n",
      "5        Cadena frutas finas; (enunciados 101 a 118)\n",
      "6               Cadena láctea (enunciados 119 a 140)\n",
      "7                  Cadena maíz; (enunciados 44 a 61)\n",
      "8               Cadena olivo;  (enunciados 83 a 100)\n",
      "9              Cadena porcina; (enunciados 62 a 82) \n"
     ]
    }
   ],
   "source": [
    "import pandas as pd\n",
    "\n",
    "file_name = 'tablabase_plana3.xlsx'\n",
    "\n",
    "try:\n",
    "    # Leemos las primeras 10 filas SIN asumir que hay un encabezado\n",
    "    df_diagnostico = pd.read_excel(file_name, header=None, nrows=10)\n",
    "    \n",
    "    print(\"Mostrando las primeras 10 filas del archivo Excel tal como las ve pandas:\")\n",
    "    print(\"Por favor, identifica en qué número de fila (la columna de la izquierda) están los títulos correctos (pk_id, email, etc.)\")\n",
    "    \n",
    "    # Mostramos el resultado\n",
    "    print(df_diagnostico)\n",
    "\n",
    "except FileNotFoundError:\n",
    "    print(f\"Error: No se encontró el archivo '{file_name}'.\")"
   ]
  },
  {
   "cell_type": "code",
   "execution_count": 7,
   "metadata": {},
   "outputs": [
    {
     "name": "stdout",
     "output_type": "stream",
     "text": [
      "Archivo cargado. Los nombres de las columnas detectados son:\n",
      "['Unnamed: 0']\n"
     ]
    }
   ],
   "source": [
    "import pandas as pd\n",
    "\n",
    "# Usamos el mismo código para cargar el archivo\n",
    "file_name = 'tablabase_plana3.xlsx'\n",
    "\n",
    "try:\n",
    "    df = pd.read_excel(file_name)\n",
    "    print(\"Archivo cargado. Los nombres de las columnas detectados son:\")\n",
    "    \n",
    "    # Imprimimos la lista de columnas que pandas encontró\n",
    "    print(df.columns.tolist())\n",
    "    \n",
    "except FileNotFoundError:\n",
    "    print(f\"Error: No se encontró el archivo '{file_name}'.\")"
   ]
  },
  {
   "cell_type": "code",
   "execution_count": 12,
   "metadata": {},
   "outputs": [
    {
     "name": "stdout",
     "output_type": "stream",
     "text": [
      "Archivo 'tablabase_plana3.xlsx' cargado exitosamente.\n",
      "\n",
      "\n",
      "================================================================================\n",
      "### ANÁLISIS PARA: Bloque 1: Incertidumbres críticas sobre la Agroindustria Alimentaria Argentina, en el contexto mundial (1 a 12) ###\n",
      "================================================================================\n",
      "       int_ans1  int_ans2  int_ans3  int_ans5  years exper\n",
      "count   6897.00   6166.00   6716.00   3050.00      7197.00\n",
      "mean       3.06      3.99      3.72      1.69        17.97\n",
      "std        2.43      3.23      3.07      0.81         9.24\n",
      "min        0.00      0.00      0.00      0.00         1.00\n",
      "25%        1.00      1.00      1.00      1.00        10.00\n",
      "50%        2.00      3.00      2.00      1.00        18.00\n",
      "75%        5.00      7.00      6.00      2.00        25.00\n",
      "max       10.00     10.00     10.00      3.00        45.00\n",
      "\n",
      "\n",
      "\n",
      "================================================================================\n",
      "### ANÁLISIS PARA: Bloque 2: tecnologías críticas de procesamiento de alimentos (enunciados 13 a 43) ###\n",
      "================================================================================\n",
      "       int_ans1  int_ans2  int_ans3  int_ans5  years exper\n",
      "count   5978.00   4922.00   4857.00   1736.00      5715.00\n",
      "mean       2.81      3.65      3.59      1.94        17.88\n",
      "std        2.56      2.90      2.86      0.84         9.02\n",
      "min        0.00      0.00      0.00      1.00         2.00\n",
      "25%        1.00      1.00      1.00      1.00        10.00\n",
      "50%        2.00      2.00      3.00      2.00        16.00\n",
      "75%        3.00      6.00      6.00      3.00        25.00\n",
      "max       10.00     10.00     10.00      3.00        42.00\n",
      "\n",
      "\n",
      "\n",
      "================================================================================\n",
      "### ANÁLISIS PARA: Cadena maíz; (enunciados 44 a 61) ###\n",
      "================================================================================\n",
      "       int_ans1  int_ans2  int_ans3  int_ans5  years exper\n",
      "count    556.00    496.00    534.00    214.00       518.00\n",
      "mean       3.47      3.75      3.69      1.85        21.79\n",
      "std        2.85      2.81      2.91      0.82         6.98\n",
      "min        0.00      0.00      0.00      1.00         2.00\n",
      "25%        1.00      2.00      2.00      1.00        15.00\n",
      "50%        2.00      3.00      2.00      2.00        20.00\n",
      "75%        5.00      6.00      7.00      3.00        30.00\n",
      "max       10.00     10.00     10.00      3.00        35.00\n",
      "\n",
      "\n",
      "\n",
      "================================================================================\n",
      "### ANÁLISIS PARA: Cadena porcina; (enunciados 62 a 82) ###\n",
      "================================================================================\n",
      "       int_ans1  int_ans2  int_ans3  int_ans5  years exper\n",
      "count    419.00    350.00    367.00    152.00       426.00\n",
      "mean       3.19      4.07      3.91      1.62        22.16\n",
      "std        2.84      3.09      3.00      0.77         7.53\n",
      "min        0.00      0.00      0.00      1.00        10.00\n",
      "25%        1.00      2.00      2.00      1.00        16.00\n",
      "50%        2.00      3.00      3.00      1.00        22.00\n",
      "75%        5.00      7.00      7.00      2.00        30.00\n",
      "max       10.00     10.00     10.00      3.00        35.00\n",
      "\n",
      "\n",
      "\n",
      "================================================================================\n",
      "### ANÁLISIS PARA: Cadena olivo;  (enunciados 83 a 100) ###\n",
      "================================================================================\n",
      "       int_ans1  int_ans2  int_ans3  int_ans5  years exper\n",
      "count    851.00    713.00    721.00    314.00      1005.00\n",
      "mean       3.05      3.46      3.46      1.91        16.44\n",
      "std        2.93      2.99      2.87      0.88         6.86\n",
      "min        0.00      0.00      0.00      1.00         2.00\n",
      "25%        1.00      1.00      1.00      1.00        12.00\n",
      "50%        2.00      2.00      2.00      2.00        18.00\n",
      "75%        4.00      5.00      5.00      3.00        22.00\n",
      "max       10.00     10.00     10.00      3.00        42.00\n",
      "\n",
      "\n",
      "\n",
      "================================================================================\n",
      "### ANÁLISIS PARA: Cadena frutas finas; (enunciados 101 a 118) ###\n",
      "================================================================================\n",
      "       int_ans1  int_ans2  int_ans3  int_ans5  years exper\n",
      "count    951.00    783.00    927.00    338.00      1066.00\n",
      "mean       3.36      4.06      3.68      1.74        17.00\n",
      "std        2.72      2.99      2.94      0.80         9.99\n",
      "min        0.00      1.00      1.00      1.00         2.00\n",
      "25%        1.00      2.00      1.50      1.00         8.00\n",
      "50%        2.00      3.00      3.00      2.00        15.00\n",
      "75%        5.00      7.00      6.00      2.00        25.00\n",
      "max       10.00     10.00     10.00      3.00        42.00\n",
      "\n",
      "\n",
      "\n",
      "================================================================================\n",
      "### ANÁLISIS PARA: Cadena láctea (enunciados 119 a 140) ###\n",
      "================================================================================\n",
      "       int_ans1  int_ans2  int_ans3  int_ans5  years exper\n",
      "count   1095.00    995.00    941.00    373.00      1085.00\n",
      "mean       2.97      3.78      3.79      1.91        22.89\n",
      "std        2.71      3.06      2.97      0.85        17.25\n",
      "min        0.00      0.00      0.00      1.00         6.00\n",
      "25%        1.00      2.00      1.00      1.00        10.00\n",
      "50%        2.00      2.00      3.00      2.00        20.00\n",
      "75%        4.00      6.00      6.00      3.00        28.00\n",
      "max       10.00     10.00     10.00      3.00        80.00\n",
      "\n",
      "\n"
     ]
    }
   ],
   "source": [
    "\n",
    "import pandas as pd\n",
    "\n",
    "file_name = 'tablabase_plana3.xlsx'\n",
    "df = pd.read_excel(file_name, header=2) # <--- ¡LA CORRECCIÓN ESTÁ AQUÍ!\n",
    "\n",
    "\n",
    "# Primero, asegúrate de tener la librería necesaria para leer archivos Excel\n",
    "# Si no la tienes, descomenta y ejecuta la siguiente línea en una celda separada:\n",
    "# !pip install openpyxl\n",
    "\n",
    "import pandas as pd\n",
    "import numpy as np\n",
    "\n",
    "# --- Cargar el archivo de datos ---\n",
    "# Corregimos el nombre del archivo para que apunte al .xlsx\n",
    "file_name = 'tablabase_plana3.xlsx'\n",
    "\n",
    "try:\n",
    "    # Usamos pd.read_excel() en lugar de pd.read_csv()\n",
    "    df = pd.read_excel(file_name)\n",
    "    print(f\"Archivo '{file_name}' cargado exitosamente.\\n\")\n",
    "except FileNotFoundError:\n",
    "    print(f\"Error: No se encontró el archivo '{file_name}'.\")\n",
    "    print(\"Por favor, asegúrate de que el notebook y el archivo Excel estén en la misma carpeta.\")\n",
    "    df = None\n",
    "\n",
    "# El resto del script sigue igual\n",
    "if df is not None:\n",
    "    lista_categorias = [\n",
    "        \"Bloque 1: Incertidumbres críticas sobre la Agroindustria Alimentaria Argentina, en el contexto mundial (1 a 12) \",\n",
    "        \"Bloque 2: tecnologías críticas de procesamiento de alimentos (enunciados 13 a 43)\",\n",
    "        \"Cadena maíz; (enunciados 44 a 61)\",\n",
    "        \"Cadena porcina; (enunciados 62 a 82) \",\n",
    "        \"Cadena olivo;  (enunciados 83 a 100)\",\n",
    "        \"Cadena frutas finas; (enunciados 101 a 118)\",\n",
    "        \"Cadena láctea (enunciados 119 a 140)\"\n",
    "    ]\n",
    "    \n",
    "    columnas_numericas = ['int_ans1', 'int_ans2', 'int_ans3', 'int_ans5', 'years exper']\n",
    "\n",
    "    for categoria in lista_categorias:\n",
    "        print(\"\\n\" + \"=\"*80)\n",
    "        print(f\"### ANÁLISIS PARA: {categoria.strip()} ###\")\n",
    "        print(\"=\"*80)\n",
    "        \n",
    "        df_categoria = df[df['Bloque temático'] == categoria].copy()\n",
    "        \n",
    "        if df_categoria.empty:\n",
    "            print(\"No se encontraron datos para esta categoría.\")\n",
    "            continue\n",
    "            \n",
    "        df_categoria['years exper'] = pd.to_numeric(df_categoria['years exper'], errors='coerce')\n",
    "        \n",
    "        tabla_descriptiva = df_categoria[columnas_numericas].describe().round(2)\n",
    "        \n",
    "        print(tabla_descriptiva.to_string())\n",
    "        print(\"\\n\")"
   ]
  },
  {
   "cell_type": "code",
   "execution_count": null,
   "metadata": {},
   "outputs": [],
   "source": []
  }
 ],
 "metadata": {
  "colab": {
   "authorship_tag": "ABX9TyNDGZ5CtzajYHzLmep4lBIy",
   "include_colab_link": true,
   "provenance": []
  },
  "kernelspec": {
   "display_name": "Python 3 (ipykernel)",
   "language": "python",
   "name": "python3"
  },
  "language_info": {
   "codemirror_mode": {
    "name": "ipython",
    "version": 3
   },
   "file_extension": ".py",
   "mimetype": "text/x-python",
   "name": "python",
   "nbconvert_exporter": "python",
   "pygments_lexer": "ipython3",
   "version": "3.10.18"
  }
 },
 "nbformat": 4,
 "nbformat_minor": 4
}
